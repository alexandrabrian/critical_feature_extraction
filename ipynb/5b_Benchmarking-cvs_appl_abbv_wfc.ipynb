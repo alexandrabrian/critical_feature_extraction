{
 "cells": [
  {
   "cell_type": "code",
   "execution_count": 2,
   "metadata": {},
   "outputs": [
    {
     "data": {
      "text/plain": [
       "'/home/jovyan/critical_feature_extraction/ipynb'"
      ]
     },
     "execution_count": 2,
     "metadata": {},
     "output_type": "execute_result"
    }
   ],
   "source": [
    "pwd"
   ]
  },
  {
   "cell_type": "code",
   "execution_count": 3,
   "metadata": {},
   "outputs": [
    {
     "name": "stdout",
     "output_type": "stream",
     "text": [
      "/home/jovyan/critical_feature_extraction\n"
     ]
    }
   ],
   "source": [
    "cd .."
   ]
  },
  {
   "cell_type": "code",
   "execution_count": 4,
   "metadata": {},
   "outputs": [],
   "source": [
    "%run __init__.py\n",
    "from sklearn.decomposition import PCA\n",
    "from sklearn.model_selection import train_test_split, GridSearchCV\n",
    "from sklearn.preprocessing import StandardScaler\n",
    "from sklearn.linear_model import LinearRegression\n",
    "from sklearn.pipeline import Pipeline\n",
    "from sklearn.metrics import mean_squared_error, r2_score\n",
    "import matplotlib.pyplot as plt\n",
    "from sklearn.manifold import TSNE\n",
    "import matplotlib.pyplot as plt"
   ]
  },
  {
   "cell_type": "markdown",
   "metadata": {},
   "source": [
    "### Clean Data:\n",
    "1. Download 3 stocks' TI's\n",
    "2. Check data\n",
    "3. Drop unnessesary columns\n",
    "4. concatenate the data"
   ]
  },
  {
   "cell_type": "code",
   "execution_count": 11,
   "metadata": {},
   "outputs": [],
   "source": [
    "apple = pd.read_csv('data/sandp500/individual_stocks_5yr_TECHNICALS_clean/AAPL_data.csv')\n",
    "\n",
    "abbvie = pd.read_csv('data/sandp500/individual_stocks_5yr_TECHNICALS_clean/ABBV_data.csv')\n",
    "\n",
    "cvs = pd.read_csv('data/sandp500/individual_stocks_5yr_TECHNICALS_clean/CVS_data.csv')\n",
    "\n",
    "wfc = pd.read_csv('data/sandp500/individual_stocks_5yr_TECHNICALS_clean/WFC_data.csv')"
   ]
  },
  {
   "cell_type": "code",
   "execution_count": 6,
   "metadata": {},
   "outputs": [],
   "source": [
    "def clean_data(df):\n",
    "    if 'Unnamed: 0' in df.columns:\n",
    "        df = df.drop('Unnamed: 0', axis=1)\n",
    "    else:\n",
    "        pass\n",
    "    if 'Unnamed: 0.1' in df.columns:    \n",
    "        df = df.drop('Unnamed: 0.1', axis=1)\n",
    "    else:\n",
    "        pass\n",
    "    if 'Unnamed: 0.1.1' in df.columns:\n",
    "        df = df.drop('Unnamed: 0.1.1', axis=1)\n",
    "    else:\n",
    "        pass\n",
    "    return df"
   ]
  },
  {
   "cell_type": "code",
   "execution_count": 7,
   "metadata": {},
   "outputs": [],
   "source": [
    "apple = clean_data(apple)\n",
    "cvs = clean_data(cvs)\n",
    "wfc= clean_data(wfc)\n",
    "abbvie = clean_data(abbvie)"
   ]
  },
  {
   "cell_type": "code",
   "execution_count": 8,
   "metadata": {},
   "outputs": [
    {
     "data": {
      "text/plain": [
       "Index(['Date', 'Open', 'High', 'Low', 'Close', 'Volume', 'Name', 'ADX_14_50',\n",
       "       'ATR_14', 'BollingerB_5', 'Bollinger%b_5', 'BollingerB_20',\n",
       "       'Bollinger%b_20', 'Copp_10', 'Chaikin', 'EMA_5', 'EMA_20', 'Force_2',\n",
       "       'KST_10_10_10_15_10_15_20_30', 'MA_5', 'MA_20', 'MACD_12_26',\n",
       "       'MACDsign_12_26', 'MACDdiff_12_26', 'MFI_14', 'Momentum_1',\n",
       "       'Mass Index', 'OBV_5', 'OBV_20', 'PP', 'R1', 'R2', 'R3', 'S1', 'S2',\n",
       "       'S3', 'ROC_5', 'ROC_20', 'RSI_6', 'RSI_12', 'STD_5', 'STD_20', 'SO%d_5',\n",
       "       'SO%d_20', 'SO%k', 'Trix_5', 'Trix_20', 'TSI_25_13', 'Target'],\n",
       "      dtype='object')"
      ]
     },
     "execution_count": 8,
     "metadata": {},
     "output_type": "execute_result"
    }
   ],
   "source": [
    "cvs.columns"
   ]
  },
  {
   "cell_type": "code",
   "execution_count": 174,
   "metadata": {},
   "outputs": [],
   "source": [
    "multi_positions = pd.concat([wfc, cvs], axis=1, join='inner')\n",
    "multi_positions = pd.concat([multi_positions, apple], axis = 1, join='inner')\n",
    "multi_positions = pd.concat([multi_positions, abbvie], axis=1, join='inner')"
   ]
  },
  {
   "cell_type": "code",
   "execution_count": 175,
   "metadata": {},
   "outputs": [],
   "source": [
    "multi_positions = multi_positions.set_index(pd.to_datetime(multi_positions.Date))\n",
    "multi_positions = multi_positions.drop('Date', axis=1)\n",
    "multi_positions = pd.get_dummies(multi_positions)\n",
    "multi_positions = multi_positions.sort_index()"
   ]
  },
  {
   "cell_type": "code",
   "execution_count": 176,
   "metadata": {},
   "outputs": [
    {
     "data": {
      "text/plain": [
       "(4677, 51)"
      ]
     },
     "execution_count": 176,
     "metadata": {},
     "output_type": "execute_result"
    }
   ],
   "source": [
    "multi_positions.shape "
   ]
  },
  {
   "cell_type": "markdown",
   "metadata": {
    "collapsed": true
   },
   "source": [
    "### Benchmarking with naive PCA and Linear Regression:\n",
    "1. Prepare data for pipeline\n",
    "2. Create a pipeline with:\n",
    "    - Standardization\n",
    "    - PCA\n",
    "    - Linear Regression\n",
    "3. Fit model\n",
    "4. Produce scores\n",
    "5. Visualize the Principal components"
   ]
  },
  {
   "cell_type": "code",
   "execution_count": 177,
   "metadata": {},
   "outputs": [],
   "source": [
    "#define the y's as the current day's trading signal (because we shift the data in the next step we have to drop the first day)\n",
    "y = multi_positions.Target\n",
    "#we shift the current days features to the previous days, so we can predict tomorrow's trading signal\n",
    "# multi_positions = multi_positions.iloc[:, :46].shift()\n",
    "#drop the NAN values created by the shift\n",
    "# multi_positions = multi_positions.dropna()\n",
    "# define X's as the features without the targets\n",
    "X = multi_positions.drop('Target', axis=1)"
   ]
  },
  {
   "cell_type": "code",
   "execution_count": 178,
   "metadata": {},
   "outputs": [],
   "source": [
    "#because this is time-series data we must manually split the data \n",
    "X_train = X.iloc[0:3508, :]\n",
    "y_train = y.iloc[0:3508]\n",
    "X_test = X.iloc[3508:, :]\n",
    "y_test = y.iloc[3508:]"
   ]
  },
  {
   "cell_type": "code",
   "execution_count": 179,
   "metadata": {},
   "outputs": [],
   "source": [
    "pipeline = Pipeline([\n",
    "    ('scaler', StandardScaler()),\n",
    "    ('pca', PCA()),\n",
    "    ('linreg', LinearRegression())\n",
    "])"
   ]
  },
  {
   "cell_type": "code",
   "execution_count": 180,
   "metadata": {},
   "outputs": [
    {
     "data": {
      "text/plain": [
       "Pipeline(steps=[('scaler', StandardScaler(copy=True, with_mean=True, with_std=True)), ('pca', PCA(copy=True, iterated_power='auto', n_components=None, random_state=None,\n",
       "  svd_solver='auto', tol=0.0, whiten=False)), ('linreg', LinearRegression(copy_X=True, fit_intercept=True, n_jobs=1, normalize=False))])"
      ]
     },
     "execution_count": 180,
     "metadata": {},
     "output_type": "execute_result"
    }
   ],
   "source": [
    "pipeline.fit(X_train,y_train)"
   ]
  },
  {
   "cell_type": "code",
   "execution_count": 181,
   "metadata": {},
   "outputs": [],
   "source": [
    "y_pred = pipeline.predict(X_test)"
   ]
  },
  {
   "cell_type": "code",
   "execution_count": 182,
   "metadata": {},
   "outputs": [
    {
     "name": "stdout",
     "output_type": "stream",
     "text": [
      "Mean squared error: 0.12\n",
      "Explain Variance: -0.19\n"
     ]
    }
   ],
   "source": [
    "# The mean squared error\n",
    "print(\"Mean squared error: %.2f\"\n",
    "      % mean_squared_error(y_test, y_pred))\n",
    "# Explained variance score: 1 is perfect prediction\n",
    "print('Explain Variance: %.2f' % r2_score(y_test, y_pred))"
   ]
  },
  {
   "cell_type": "code",
   "execution_count": 183,
   "metadata": {},
   "outputs": [
    {
     "data": {
      "image/png": "[encoded data removed]",
      "text/plain": [
       "<matplotlib.figure.Figure at 0x7f1f8462dba8>"
      ]
     },
     "metadata": {},
     "output_type": "display_data"
    }
   ],
   "source": [
    "plt.plot(y_pred)\n",
    "plt.show()"
   ]
  },
  {
   "cell_type": "code",
   "execution_count": 184,
   "metadata": {},
   "outputs": [
    {
     "data": {
      "image/png": "[encoded data removed]",
      "text/plain": [
       "<matplotlib.figure.Figure at 0x7f1f845c2f98>"
      ]
     },
     "metadata": {},
     "output_type": "display_data"
    }
   ],
   "source": [
    "plt.plot(y)\n",
    "plt.show()"
   ]
  },
  {
   "cell_type": "code",
   "execution_count": null,
   "metadata": {},
   "outputs": [],
   "source": []
  }
 ],
 "metadata": {
  "kernelspec": {
   "display_name": "Python 3",
   "language": "python",
   "name": "python3"
  },
  "language_info": {
   "codemirror_mode": {
    "name": "ipython",
    "version": 3
   },
   "file_extension": ".py",
   "mimetype": "text/x-python",
   "name": "python",
   "nbconvert_exporter": "python",
   "pygments_lexer": "ipython3",
   "version": "3.6.2"
  }
 },
 "nbformat": 4,
 "nbformat_minor": 2
}
