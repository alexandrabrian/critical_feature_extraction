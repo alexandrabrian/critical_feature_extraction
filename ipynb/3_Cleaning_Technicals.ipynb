{
 "cells": [
  {
   "cell_type": "code",
   "execution_count": 8,
   "metadata": {},
   "outputs": [
    {
     "name": "stdout",
     "output_type": "stream",
     "text": [
      "/home/jovyan/critical_feature_extraction\n"
     ]
    }
   ],
   "source": [
    "cd critical_feature_extraction/"
   ]
  },
  {
   "cell_type": "code",
   "execution_count": 9,
   "metadata": {},
   "outputs": [],
   "source": [
    "%run __init__.py"
   ]
  },
  {
   "cell_type": "code",
   "execution_count": 10,
   "metadata": {},
   "outputs": [],
   "source": [
    "import os\n",
    "\n",
    "import warnings\n",
    "warnings.filterwarnings('ignore')"
   ]
  },
  {
   "cell_type": "markdown",
   "metadata": {},
   "source": [
    "### Clean the Data:\n",
    "1. Drop the Acc/Dist_ROC_1 feature because it is only producing 0's\n",
    "2. Drop all NaN values\n",
    "3. Create a DataFrame with:\n",
    "    - count *before* cleaning\n",
    "    - count *after* cleaning\n",
    "    - *difference* between the original and new count"
   ]
  },
  {
   "cell_type": "code",
   "execution_count": 18,
   "metadata": {},
   "outputs": [],
   "source": [
    "#make an empty dict\n",
    "count_diff = {}\n",
    "\n",
    "#create a list of the different tickers \n",
    "individuals = os.listdir(path = \"data/sandp500/individual_stocks_5yr/\")\n",
    "\n",
    "#iterate through all of the csv files\n",
    "for csv in individuals:\n",
    "    #only create paths with .csv included in the list\n",
    "    if '.csv' in csv:\n",
    "        #create a path with each csv\n",
    "        csv_path = \"data/sandp500/individual_stocks_5yr_TECHNICALS/\" + csv\n",
    "        #create a df with path\n",
    "        df = pd.read_csv(csv_path)\n",
    "        #find the original number of observations\n",
    "        orig_count = len(df.index)\n",
    "        try:\n",
    "            #clean the data by dropping the Acc/Dist_ROC_1 feature\n",
    "            df = df.drop('Acc/Dist_ROC_1', axis=1)\n",
    "            #drop all NaN values\n",
    "            df = df.dropna()\n",
    "            #save the cleaned df to csv in the individual_stocks_5yr_TECHNICALS_clean folder\n",
    "            df.to_csv(f\"data/sandp500/individual_stocks_5yr_TECHNICALS_clean/{csv}\")\n",
    "            #define the new count of the cleaned data \n",
    "            new_count = len(df.index)\n",
    "            #find the difference between the original count and the cleaned count\n",
    "            diff = orig_count - new_count\n",
    "            #add the difference, original_count and cleaned_count to the shape_diff dict\n",
    "            count_diff.update({f'{csv}':\n",
    "                               {'difference': diff, \n",
    "                               'original_count':orig_count, \n",
    "                               'cleaned_count':new_count}})\n",
    "        except:\n",
    "            print(f\"Technical cleaning failed on {csv}\")\n"
   ]
  },
  {
   "cell_type": "code",
   "execution_count": null,
   "metadata": {},
   "outputs": [],
   "source": [
    "#create a df from the shape_diff dictionary and transpose it\n",
    "obs_diff = pd.DataFrame(shape_diff).T"
   ]
  },
  {
   "cell_type": "code",
   "execution_count": null,
   "metadata": {},
   "outputs": [],
   "source": [
    "#show only the tickers where the original_count is less than 1000\n",
    "obs_diff[obs_diff['original_count']<1000]"
   ]
  },
  {
   "cell_type": "code",
   "execution_count": null,
   "metadata": {},
   "outputs": [],
   "source": [
    "#show how many tickers have less than 1000 observations \n",
    "obs_diff[obs_diff['original_count']<1000].count()   "
   ]
  }
 ],
 "metadata": {
  "kernelspec": {
   "display_name": "Python 3",
   "language": "python",
   "name": "python3"
  },
  "language_info": {
   "codemirror_mode": {
    "name": "ipython",
    "version": 3
   },
   "file_extension": ".py",
   "mimetype": "text/x-python",
   "name": "python",
   "nbconvert_exporter": "python",
   "pygments_lexer": "ipython3",
   "version": "3.6.2"
  }
 },
 "nbformat": 4,
 "nbformat_minor": 2
}
